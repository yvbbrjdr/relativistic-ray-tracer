{
 "cells": [
  {
   "cell_type": "code",
   "execution_count": 44,
   "metadata": {},
   "outputs": [],
   "source": [
    "import numpy as np\n",
    "def rho(r, a, theta):\n",
    "    return np.sqrt(r ** 2 + a ** 2 * np.cos(theta) ** 2)\n",
    "\n",
    "def dell(r, a):\n",
    "    return r ** 2 - 2 * r + a ** 2\n",
    "\n",
    "def sigma(r, a, theta):\n",
    "    return np.sqrt((r**2 + a**2)**2 - a ** 2 * dell(r, a) * np.sin(theta)**2)\n",
    "\n",
    "def P(r, a, b):\n",
    "    return r**2 + a**2 - a * b\n",
    "\n",
    "def R(r, a, b, q):\n",
    "    return P(r, a, b) ** 2 - dell(r, a) * ((b - a)**2 + q)\n",
    "\n",
    "def bigTheta(theta, a, b, q):\n",
    "    return q - np.cos(theta)**2 * (b**2 / np.sin(theta)**2 - a**2)\n",
    "\n",
    "def dr(r, a, theta, pr):\n",
    "    return dell(r, a) * pr / rho(r, a, theta) ** 2\n",
    "\n",
    "def dtheta(r, a, theta, ptheta):\n",
    "    return ptheta / rho(r, a, theta) ** 2\n",
    "\n",
    "def RDT(r, theta, a, b, q):\n",
    "    return (R(r, a, b, q) + dell(r, a)*bigTheta(theta, a, b, q))/(2 * dell(r, a) * rho(r, a, theta)**2)\n",
    "\n",
    "def findiff(f, x, h):\n",
    "    return (-f(x + 2*h) + 8 * f(x + h) - 8 * f(x - h) + f(x - 2*h)) / (12 * h)\n",
    "\n",
    "def dphi(r, theta, a, b, q, h):\n",
    "    f = lambda x: RDT(r, theta, a, x, q)\n",
    "    return -findiff(f, b, h)\n",
    "\n",
    "def ppr(r, theta, pr, ptheta, a, b, q):\n",
    "    x = -dell(r, a) * pr ** 2/(2 * rho(r, a, theta)**2)\n",
    "    y = -ptheta**2 / (2*rho(r, a, theta)**2)\n",
    "    z = RDT(r, theta, a, b, q)\n",
    "    return x + y + z\n",
    "    \n",
    "def dpr(r, theta, pr, ptheta, a, b, q, h):\n",
    "    f = lambda x: ppr(x, theta, pr, ptheta, a, b, q)\n",
    "    return findiff(f, pr, h)\n",
    "\n",
    "def dptheta(r, theta, pr, ptheta, a, b, q, h):\n",
    "    f = lambda x: ppr(r, theta, pr, ptheta, a, b, q)\n",
    "    return findiff(f, theta, h)"
   ]
  },
  {
   "cell_type": "code",
   "execution_count": 10,
   "metadata": {},
   "outputs": [
    {
     "name": "stdout",
     "output_type": "stream",
     "text": [
      "rho = 4.003904344511741\n"
     ]
    }
   ],
   "source": [
    "r = 4.0\n",
    "a = 0.25\n",
    "theta = np.pi / 4.0\n",
    "print(\"rho = \" + str(rho(r, a, theta)))"
   ]
  },
  {
   "cell_type": "code",
   "execution_count": 15,
   "metadata": {},
   "outputs": [
    {
     "name": "stdout",
     "output_type": "stream",
     "text": [
      "8.0625\n"
     ]
    }
   ],
   "source": [
    "r = 4.0\n",
    "a = 0.25\n",
    "print(dell(r, a))"
   ]
  },
  {
   "cell_type": "code",
   "execution_count": 13,
   "metadata": {},
   "outputs": [
    {
     "name": "stdout",
     "output_type": "stream",
     "text": [
      "16.054655185490592\n"
     ]
    }
   ],
   "source": [
    "r = 4.0\n",
    "theta = np.pi / 4.0\n",
    "a - 0.25\n",
    "print(sigma(r, a, theta))"
   ]
  },
  {
   "cell_type": "code",
   "execution_count": 19,
   "metadata": {},
   "outputs": [
    {
     "name": "stdout",
     "output_type": "stream",
     "text": [
      "0.20116959064327491\n"
     ]
    }
   ],
   "source": [
    "r = 4.0\n",
    "theta = np.pi / 4.0;\n",
    "pr = 0.4;\n",
    "a = 0.25\n",
    "print(dr(r, a, theta, pr))"
   ]
  },
  {
   "cell_type": "code",
   "execution_count": 20,
   "metadata": {},
   "outputs": [
    {
     "name": "stdout",
     "output_type": "stream",
     "text": [
      "0.02495126705653022\n"
     ]
    }
   ],
   "source": [
    "r = 4.0\n",
    "theta = np.pi / 4.0;\n",
    "ptheta = 0.4;\n",
    "a = 0.25\n",
    "print(dtheta(r, a, theta, ptheta))"
   ]
  },
  {
   "cell_type": "code",
   "execution_count": 22,
   "metadata": {},
   "outputs": [
    {
     "name": "stdout",
     "output_type": "stream",
     "text": [
      "15.875\n"
     ]
    }
   ],
   "source": [
    "r = 4.0\n",
    "a = 0.25\n",
    "b = 0.75\n",
    "print(P(r, a, b))"
   ]
  },
  {
   "cell_type": "code",
   "execution_count": 23,
   "metadata": {},
   "outputs": [
    {
     "data": {
      "text/plain": [
       "241.9375"
      ]
     },
     "execution_count": 23,
     "metadata": {},
     "output_type": "execute_result"
    }
   ],
   "source": [
    "r = 4.0\n",
    "a = 0.25\n",
    "b = 0.75\n",
    "q = 1.0\n",
    "R(r, a, b, q)"
   ]
  },
  {
   "cell_type": "code",
   "execution_count": 30,
   "metadata": {},
   "outputs": [
    {
     "name": "stdout",
     "output_type": "stream",
     "text": [
      "0.4687499999999998\n"
     ]
    }
   ],
   "source": [
    "theta = np.pi / 4.0\n",
    "a = 0.25\n",
    "b = 0.75\n",
    "q = 1.0\n",
    "print(bigTheta(theta, a, b, q))"
   ]
  },
  {
   "cell_type": "code",
   "execution_count": 36,
   "metadata": {},
   "outputs": [
    {
     "name": "stdout",
     "output_type": "stream",
     "text": [
      "0.95053417350439\n"
     ]
    }
   ],
   "source": [
    "r = 4.0\n",
    "theta = np.pi / 4.0\n",
    "a = 0.25\n",
    "b = 0.75\n",
    "q = 1.0\n",
    "print(RDT(r, theta, a, b, q))"
   ]
  },
  {
   "cell_type": "code",
   "execution_count": 39,
   "metadata": {},
   "outputs": [
    {
     "name": "stdout",
     "output_type": "stream",
     "text": [
      "0.10867824168517798\n"
     ]
    }
   ],
   "source": [
    "r = 4.0\n",
    "theta = np.pi / 4.0\n",
    "a = 0.25\n",
    "b = 0.75\n",
    "q = 1.0\n",
    "h = 0.1\n",
    "print(dphi(r, theta, a, b, q, h))"
   ]
  },
  {
   "cell_type": "code",
   "execution_count": 45,
   "metadata": {},
   "outputs": [
    {
     "name": "stdout",
     "output_type": "stream",
     "text": [
      "0.8274113664868461\n"
     ]
    }
   ],
   "source": [
    "r = 4.0\n",
    "theta = np.pi / 4.0\n",
    "pr = 0.66\n",
    "ptheta = 0.66\n",
    "a = 0.25\n",
    "b = 0.75\n",
    "q = 1.0\n",
    "h = 0.1\n",
    "print(ppr(r, theta, pr, ptheta, a, b, q))"
   ]
  },
  {
   "cell_type": "code",
   "execution_count": 46,
   "metadata": {},
   "outputs": [
    {
     "name": "stdout",
     "output_type": "stream",
     "text": [
      "2.2929872732060885\n"
     ]
    }
   ],
   "source": [
    "r = 4.0\n",
    "theta = np.pi / 4.0\n",
    "pr = 0.66\n",
    "ptheta = 0.66\n",
    "a = 0.25\n",
    "b = 0.75\n",
    "q = 1.0\n",
    "h = 0.1\n",
    "print(dpr(r, theta, pr, ptheta, a, b, q, h))"
   ]
  },
  {
   "cell_type": "code",
   "execution_count": 47,
   "metadata": {},
   "outputs": [
    {
     "name": "stdout",
     "output_type": "stream",
     "text": [
      "1.850371707708594e-16\n"
     ]
    }
   ],
   "source": [
    "r = 4.0\n",
    "theta = np.pi / 4.0\n",
    "pr = 0.66\n",
    "ptheta = 0.66\n",
    "a = 0.25\n",
    "b = 0.75\n",
    "q = 1.0\n",
    "h = 0.1\n",
    "print(dptheta(r, theta, pr, ptheta, a, b, q, h))"
   ]
  },
  {
   "cell_type": "code",
   "execution_count": null,
   "metadata": {},
   "outputs": [],
   "source": []
  }
 ],
 "metadata": {
  "kernelspec": {
   "display_name": "Python 3",
   "language": "python",
   "name": "python3"
  },
  "language_info": {
   "codemirror_mode": {
    "name": "ipython",
    "version": 3
   },
   "file_extension": ".py",
   "mimetype": "text/x-python",
   "name": "python",
   "nbconvert_exporter": "python",
   "pygments_lexer": "ipython3",
   "version": "3.7.0"
  }
 },
 "nbformat": 4,
 "nbformat_minor": 2
}
